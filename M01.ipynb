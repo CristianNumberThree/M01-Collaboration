{
 "cells": [
  {
   "cell_type": "markdown",
   "id": "12dd639b",
   "metadata": {},
   "source": [
    "There are 60 seconds in an hour"
   ]
  },
  {
   "cell_type": "code",
   "execution_count": 1,
   "id": "aa158ba0",
   "metadata": {},
   "outputs": [
    {
     "name": "stdout",
     "output_type": "stream",
     "text": [
      "3600\n"
     ]
    }
   ],
   "source": [
    "seconds_per_minute=60\n",
    "minutes_per_hour=60\n",
    "a=seconds_per_minute*minutes_per_hour\n",
    "print(a)"
   ]
  },
  {
   "cell_type": "code",
   "execution_count": 3,
   "id": "ddaac436",
   "metadata": {},
   "outputs": [
    {
     "name": "stdout",
     "output_type": "stream",
     "text": [
      "There are 3600  seconds in an hour\n"
     ]
    }
   ],
   "source": [
    "seconds_per_hour=3600\n",
    "print(\"There are\",seconds_per_hour,\"seconds in an hour\")"
   ]
  },
  {
   "cell_type": "markdown",
   "id": "69894022",
   "metadata": {},
   "source": [
    "There are 24 hours in a day"
   ]
  },
  {
   "cell_type": "code",
   "execution_count": 4,
   "id": "41b835f6",
   "metadata": {},
   "outputs": [
    {
     "name": "stdout",
     "output_type": "stream",
     "text": [
      "86400\n"
     ]
    }
   ],
   "source": [
    "b=seconds_per_hour*24\n",
    "print(b)"
   ]
  },
  {
   "cell_type": "code",
   "execution_count": 5,
   "id": "8cbe04a3",
   "metadata": {},
   "outputs": [
    {
     "name": "stdout",
     "output_type": "stream",
     "text": [
      "There are 86400 seconds in a day\n"
     ]
    }
   ],
   "source": [
    "seconds_per_day=86400\n",
    "print(\"There are\",seconds_per_day,\"seconds in a day\")"
   ]
  },
  {
   "cell_type": "code",
   "execution_count": 6,
   "id": "3cd92b78",
   "metadata": {},
   "outputs": [
    {
     "name": "stdout",
     "output_type": "stream",
     "text": [
      "seconds per day divided by seconds per hour as a float value is 24.0\n"
     ]
    }
   ],
   "source": [
    "c=seconds_per_day/seconds_per_hour\n",
    "print(\"seconds per day divided by seconds per hour as a float value is\",c)"
   ]
  },
  {
   "cell_type": "code",
   "execution_count": 7,
   "id": "457fb677",
   "metadata": {},
   "outputs": [
    {
     "name": "stdout",
     "output_type": "stream",
     "text": [
      "seconds per day divided by seconds per hour as an integer value is 24\n"
     ]
    }
   ],
   "source": [
    "d=seconds_per_day//seconds_per_hour\n",
    "print(\"seconds per day divided by seconds per hour as an integer value is\",d)"
   ]
  },
  {
   "cell_type": "markdown",
   "id": "7e0f83db",
   "metadata": {},
   "source": [
    "In this case either the integer or float result are both acceptable but the float value provides greater accuracy"
   ]
  }
 ],
 "metadata": {
  "kernelspec": {
   "display_name": "Python 3 (ipykernel)",
   "language": "python",
   "name": "python3"
  },
  "language_info": {
   "codemirror_mode": {
    "name": "ipython",
    "version": 3
   },
   "file_extension": ".py",
   "mimetype": "text/x-python",
   "name": "python",
   "nbconvert_exporter": "python",
   "pygments_lexer": "ipython3",
   "version": "3.11.5"
  }
 },
 "nbformat": 4,
 "nbformat_minor": 5
}
