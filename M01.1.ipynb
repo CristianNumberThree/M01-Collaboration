{
 "cells": [
  {
   "cell_type": "code",
   "execution_count": 6,
   "id": "99ff4556",
   "metadata": {},
   "outputs": [
    {
     "name": "stdout",
     "output_type": "stream",
     "text": [
      "3600 seconds in an hour\n",
      "86400 seconds in an day\n",
      "24.0\n",
      "24\n"
     ]
    }
   ],
   "source": [
    "#Steps 3.1 & 3.2\n",
    "seconds_per_minute=60\n",
    "minutes_per_hour=60\n",
    "seconds_per_hour=seconds_per_minute*minutes_per_hour\n",
    "print(seconds_per_hour,\"seconds in an hour\")\n",
    "\n",
    "#Steps 3.3 & 3.4\n",
    "hours_per_day=24\n",
    "seconds_per_day=seconds_per_hour*hours_per_day\n",
    "print(seconds_per_day,\"seconds in an day\")\n",
    "\n",
    "#Step 3.5\n",
    "x=seconds_per_day/seconds_per_hour\n",
    "print(x)\n",
    "\n",
    "#Step 3.6\n",
    "y=seconds_per_day//seconds_per_hour\n",
    "print(y)"
   ]
  },
  {
   "cell_type": "code",
   "execution_count": null,
   "id": "ec9daa3c",
   "metadata": {},
   "outputs": [],
   "source": []
  }
 ],
 "metadata": {
  "kernelspec": {
   "display_name": "Python 3 (ipykernel)",
   "language": "python",
   "name": "python3"
  },
  "language_info": {
   "codemirror_mode": {
    "name": "ipython",
    "version": 3
   },
   "file_extension": ".py",
   "mimetype": "text/x-python",
   "name": "python",
   "nbconvert_exporter": "python",
   "pygments_lexer": "ipython3",
   "version": "3.11.5"
  }
 },
 "nbformat": 4,
 "nbformat_minor": 5
}
